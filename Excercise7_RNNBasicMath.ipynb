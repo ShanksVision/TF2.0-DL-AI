{
  "nbformat": 4,
  "nbformat_minor": 0,
  "metadata": {
    "colab": {
      "name": "Excercise7_RNNBasicMath.ipynb",
      "provenance": [],
      "collapsed_sections": []
    },
    "kernelspec": {
      "name": "python3",
      "display_name": "Python 3"
    }
  },
  "cells": [
    {
      "cell_type": "code",
      "metadata": {
        "id": "RC7M8GfTeO1Z",
        "colab_type": "code",
        "colab": {}
      },
      "source": [
        "import tensorflow as tf\n",
        "import numpy as np\n",
        "import matplotlib.pyplot as plt\n"
      ],
      "execution_count": 3,
      "outputs": []
    },
    {
      "cell_type": "code",
      "metadata": {
        "id": "MdTeUAZte7VI",
        "colab_type": "code",
        "colab": {}
      },
      "source": [
        "#Assign the basic variables\n",
        "#Random Task - Predict the position of a commuter based on some driving data\n",
        "N = 10 #Number of samples (10 days of data)\n",
        "T = 20 #Number of time series windows (20 sample points between commute)\n",
        "D = 4 #Number of dimensions in data (Location & Speed - Lat,Long,Elev,Spd)\n",
        "M = 4 #Number of hidden units \n",
        "K = 3 #Number of output units (Lat, Long, Elev)"
      ],
      "execution_count": 14,
      "outputs": []
    },
    {
      "cell_type": "code",
      "metadata": {
        "id": "kgLQiVp6hfey",
        "colab_type": "code",
        "colab": {
          "base_uri": "https://localhost:8080/",
          "height": 382
        },
        "outputId": "67ace26d-dc7c-4f3c-ab2f-c0aea62430e1"
      },
      "source": [
        "X = np.random.randn(N, T, D) #Input\n",
        "Y = np.random.randn(N, K) #Output\n",
        "print(X[0])\n",
        "print(Y[0])"
      ],
      "execution_count": 16,
      "outputs": [
        {
          "output_type": "stream",
          "text": [
            "[[ 0.3300333  -0.26859804  0.79939947  0.395754  ]\n",
            " [-0.49812999  0.85267715 -1.74605935 -1.32199702]\n",
            " [-0.40181503  0.00475293 -0.86383846 -2.04077906]\n",
            " [ 0.17229486  0.41660823 -0.23433197 -0.15784695]\n",
            " [-1.14085436  1.56128243  1.78066839  0.18273662]\n",
            " [-1.55605146 -0.08365172 -0.75660135  1.69493122]\n",
            " [ 0.05481932  0.24295508  0.43612059 -0.4055512 ]\n",
            " [-0.18096596  0.51600017  0.22943408 -1.33663844]\n",
            " [-0.28159546 -0.04483446 -0.20858437  0.54363225]\n",
            " [ 0.32945123 -0.65039997 -0.09187853 -1.42643032]\n",
            " [-1.59631915  0.94896876  0.65029419  1.97133962]\n",
            " [-0.69977343  0.63623289  1.09604828  0.13884948]\n",
            " [ 0.40300137 -1.49219248  0.43764684 -1.75912862]\n",
            " [ 0.94285736 -0.43206195 -0.41038023  0.5111171 ]\n",
            " [-0.0909263   0.78238205  1.51921658  0.12582324]\n",
            " [ 1.08646858 -0.07690655  0.46686822  1.53900304]\n",
            " [-0.10992708 -1.42571429 -1.25537803 -0.14616125]\n",
            " [ 0.4233613   0.59453185  1.09305327 -0.20565117]\n",
            " [-0.25883126  0.75436674  0.59993461  1.32311072]\n",
            " [ 0.90426799 -0.49124473  0.50202509 -0.44758233]]\n",
            "[ 0.37765407 -0.54538564 -2.1657667 ]\n"
          ],
          "name": "stdout"
        }
      ]
    },
    {
      "cell_type": "code",
      "metadata": {
        "id": "xtLOd8zSgfC1",
        "colab_type": "code",
        "colab": {
          "base_uri": "https://localhost:8080/",
          "height": 260
        },
        "outputId": "baf4ad27-2568-404c-e620-81213b9f4d1c"
      },
      "source": [
        "#Build model\n",
        "input_layer = tf.keras.layers.Input(shape=(T, D))\n",
        "hidden_layer = tf.keras.layers.SimpleRNN(M)(input_layer)\n",
        "output_layer = tf.keras.layers.Dense(K)(hidden_layer)\n",
        "model = tf.keras.models.Model(inputs=input_layer, outputs=output_layer)\n",
        "model.summary()"
      ],
      "execution_count": 17,
      "outputs": [
        {
          "output_type": "stream",
          "text": [
            "Model: \"model_3\"\n",
            "_________________________________________________________________\n",
            "Layer (type)                 Output Shape              Param #   \n",
            "=================================================================\n",
            "input_4 (InputLayer)         [(None, 20, 4)]           0         \n",
            "_________________________________________________________________\n",
            "simple_rnn_3 (SimpleRNN)     (None, 4)                 36        \n",
            "_________________________________________________________________\n",
            "dense_1 (Dense)              (None, 3)                 15        \n",
            "=================================================================\n",
            "Total params: 51\n",
            "Trainable params: 51\n",
            "Non-trainable params: 0\n",
            "_________________________________________________________________\n"
          ],
          "name": "stdout"
        }
      ]
    },
    {
      "cell_type": "code",
      "metadata": {
        "id": "IoI_jZ1FpHrY",
        "colab_type": "code",
        "colab": {
          "base_uri": "https://localhost:8080/",
          "height": 34
        },
        "outputId": "1a2c0016-60c9-4e14-e547-559d933588bf"
      },
      "source": [
        "#compile and fit the model\n",
        "model.compile(optimizer=tf.keras.optimizers.Adam(0.1), loss=tf.keras.losses.MeanSquaredError())\n",
        "model.fit(x=X, y=Y, epochs=60, verbose=0)"
      ],
      "execution_count": 22,
      "outputs": [
        {
          "output_type": "execute_result",
          "data": {
            "text/plain": [
              "<tensorflow.python.keras.callbacks.History at 0x7ff0e6cfce10>"
            ]
          },
          "metadata": {
            "tags": []
          },
          "execution_count": 22
        }
      ]
    },
    {
      "cell_type": "code",
      "metadata": {
        "id": "sdrcI12BvJvC",
        "colab_type": "code",
        "colab": {
          "base_uri": "https://localhost:8080/",
          "height": 69
        },
        "outputId": "7bd5c3d3-4c51-47f5-875c-fb844d237b8e"
      },
      "source": [
        "Y_pred = model.predict(X)\n",
        "print(np.mean(tf.keras.losses.mse(Y[:,0], Y_pred[:,0])))  #Mean Error in Lat\n",
        "print(np.mean(tf.keras.losses.mse(Y[:,1], Y_pred[:,1])))  #Mean Error in Long\n",
        "print(np.mean(tf.keras.losses.mse(Y[:,2], Y_pred[:,2])))  #Mean Error in Elev"
      ],
      "execution_count": 25,
      "outputs": [
        {
          "output_type": "stream",
          "text": [
            "0.06835234\n",
            "0.01047355\n",
            "0.0737173\n"
          ],
          "name": "stdout"
        }
      ]
    },
    {
      "cell_type": "code",
      "metadata": {
        "id": "rZ4zbtvywxRD",
        "colab_type": "code",
        "colab": {
          "base_uri": "https://localhost:8080/",
          "height": 364
        },
        "outputId": "4ee23b76-60b9-4913-ea78-ace0d583b0b7"
      },
      "source": [
        "print(Y)\n",
        "print(Y_pred)"
      ],
      "execution_count": 24,
      "outputs": [
        {
          "output_type": "stream",
          "text": [
            "[[ 0.37765407 -0.54538564 -2.1657667 ]\n",
            " [-0.96711081  0.22967925 -0.3425056 ]\n",
            " [-1.30759626  1.02372114 -0.07733552]\n",
            " [-0.60588849  1.24836915  0.87613897]\n",
            " [-1.02545158  1.28259371 -1.84136681]\n",
            " [-0.73413666 -0.71786171 -0.15044688]\n",
            " [-1.01049033 -1.11709124 -0.38416004]\n",
            " [ 1.59853722  0.12395179 -1.37085356]\n",
            " [-1.6602522   0.74857561 -2.10632467]\n",
            " [ 0.05044456 -1.29817285  0.07344798]]\n",
            "[[ 0.35415947 -0.5498009  -2.20571   ]\n",
            " [-0.73393154  0.10061494  0.24715918]\n",
            " [-1.6896828   0.8119849  -0.33248606]\n",
            " [-0.6306201   1.2808334   0.68253857]\n",
            " [-1.2529776   1.2295997  -1.9173849 ]\n",
            " [-0.7040311  -0.6834549  -0.10698122]\n",
            " [-0.69594103 -0.922704   -0.16338396]\n",
            " [ 1.5940179   0.13574228 -1.3732263 ]\n",
            " [-1.2128453   0.7548388  -1.8822789 ]\n",
            " [-0.31037116 -1.283495   -0.34925503]]\n"
          ],
          "name": "stdout"
        }
      ]
    },
    {
      "cell_type": "code",
      "metadata": {
        "id": "IDzVVs5yxYQc",
        "colab_type": "code",
        "colab": {
          "base_uri": "https://localhost:8080/",
          "height": 34
        },
        "outputId": "9210f6da-6435-4ca3-e3d2-c62281ace0fb"
      },
      "source": [
        "#Lets look into the weights of the network\n",
        "weights_rnn = model.get_weights()\n",
        "len(weights_rnn)"
      ],
      "execution_count": 29,
      "outputs": [
        {
          "output_type": "execute_result",
          "data": {
            "text/plain": [
              "5"
            ]
          },
          "metadata": {
            "tags": []
          },
          "execution_count": 29
        }
      ]
    },
    {
      "cell_type": "code",
      "metadata": {
        "id": "XTKz9ztmy7sz",
        "colab_type": "code",
        "colab": {
          "base_uri": "https://localhost:8080/",
          "height": 34
        },
        "outputId": "86721d9a-88ae-4a03-b407-ee9d63fea8b8"
      },
      "source": [
        "#There are 5 weight/bias numpy arrays\n",
        "#Array 0 - Wxh - Connections between Input and hidden units (4 x 4)\n",
        "Wxh = weights_rnn[0]\n",
        "#Array 1 - Whh - Recurring connection between the two states (t and t-1) of hidden units (4 x 4)\n",
        "Whh = weights_rnn[1]\n",
        "#Array 2 - Bh - Bias of hidden units \n",
        "Bh = weights_rnn[2]\n",
        "#Array 3 - Who - Connections between hidden and output units (4 x 3)\n",
        "Who = weights_rnn[3]\n",
        "#Array 4 - Bo - Bias of output units\n",
        "Bo = weights_rnn[4]\n",
        "\n",
        "#We can also get the weights by layers\n",
        "# layers[0] - Input layer - no weights\n",
        "Wxh1, Whh1, Bh1 = model.layers[1].get_weights() #hidden layer\n",
        "Who1, Bo1 = model.layers[2].get_weights() #output layer\n",
        "\n",
        "#Just make sure these arrays are the same, so that we can use any of these methods in future\n",
        "np.where(Wxh != Wxh1)\n",
        "np.where(Who != Who1)\n"
      ],
      "execution_count": 30,
      "outputs": [
        {
          "output_type": "execute_result",
          "data": {
            "text/plain": [
              "(array([], dtype=int64), array([], dtype=int64))"
            ]
          },
          "metadata": {
            "tags": []
          },
          "execution_count": 30
        }
      ]
    },
    {
      "cell_type": "code",
      "metadata": {
        "id": "6BsPHmtk2RRF",
        "colab_type": "code",
        "colab": {
          "base_uri": "https://localhost:8080/",
          "height": 384
        },
        "outputId": "db287296-1df9-450b-8f89-a8d4ebf9d77c"
      },
      "source": [
        "#Verify the operation that is being done by the RNN\n",
        "\n",
        "Y_pred_manual = np.empty((N,K))\n",
        "\n",
        "for i in range(N):\n",
        "  x = X[i] #Compute each sample\n",
        "  h_previous = np.zeros(M) #Initial h0 state is zeros\n",
        "  y_pred = []  #keep track of each time sample output\n",
        "  for t in range(T):\n",
        "    h = np.tanh(x[t].dot(Wxh) + h_previous.dot(Whh) + Bh)\n",
        "    y = h.dot(Who) + Bo\n",
        "    h_previous = h\n",
        "    y_pred.append(y)\n",
        "  print(\"All Y predictions for each time instance in Sample{0}\".format(i+1))\n",
        "  print(y_pred)\n",
        "  Y_pred_manual[i] = y_pred[-1] # we just need the last prediction\n"
      ],
      "execution_count": 37,
      "outputs": [
        {
          "output_type": "stream",
          "text": [
            "All Y predictions for each time instance in Sample1\n",
            "[array([-1.8852619 ,  1.20111786, -0.86430777]), array([ 1.83530467, -0.3255989 , -1.14943237]), array([ 0.92316755,  2.64782663, -2.7003636 ]), array([ 0.08664711, -1.02288094, -0.56111675]), array([-0.78971326,  1.67212775,  0.69423653]), array([ 0.80704056,  0.0426585 , -2.35033914]), array([-0.61708387, -1.02450639, -0.16773155]), array([ 1.23481015, -0.19692565, -0.86032073]), array([ 0.7420477 ,  2.30311851, -2.53515334]), array([-1.15084647,  1.79350722, -1.94625763]), array([-0.97347074,  1.35270678,  0.69997589]), array([-0.56016642,  0.70389995,  0.55093305]), array([ 0.39545714, -0.71335269, -2.2562906 ]), array([-1.18559236,  1.50302449, -1.79078239]), array([-2.50519474,  0.53169154,  1.24012072]), array([-2.48521186,  1.05375914, -0.49770649]), array([-0.69353077, -0.70407127, -1.90333265]), array([-2.55599203,  0.53136257,  1.26509388]), array([-0.64096138,  1.16400985,  0.6573564 ]), array([ 0.35415975, -0.54980073, -2.20570996])]\n",
            "All Y predictions for each time instance in Sample2\n",
            "[array([-1.00122294,  0.06255875, -0.54739197]), array([-0.33217526,  1.86206108, -2.26633234]), array([-1.26222571,  1.83004328, -1.97273646]), array([-1.26506621,  1.85552143, -1.96988531]), array([-0.41941184, -0.25075741, -0.92244424]), array([ 1.52702453,  0.52629612, -1.58073731]), array([-0.64465648,  1.84096775, -2.04519279]), array([-1.10763628,  1.33738138, -1.69877223]), array([-0.29753935, -0.87557451, -0.59122858]), array([ 1.6869026 , -0.21457551, -1.05010012]), array([-0.47387344,  1.61228074,  0.52179577]), array([-0.62967049,  1.41116524,  0.66959681]), array([ 0.86615327,  0.0833723 , -2.39071334]), array([-0.56975539,  0.36512733, -1.24142582]), array([-1.22988151,  0.61868668,  0.63107147]), array([-2.91619871, -0.66437066,  1.27285615]), array([0.32589834, 0.24922296, 0.00114257]), array([-0.65280658,  2.11465677, -1.15616304]), array([-0.98161748,  1.25091676, -1.75922614]), array([-0.73393172,  0.10061512,  0.24715941])]\n",
            "All Y predictions for each time instance in Sample3\n",
            "[array([ 1.68214175, -0.23489944, -1.09186996]), array([ 0.97690851,  2.39740911, -2.59086385]), array([-0.15635342, -1.04243461, -0.34715446]), array([ 0.58112117,  2.28122519, -2.43329227]), array([ 1.66916582,  0.13937448, -1.38875292]), array([ 0.98078344,  0.69408006, -1.59584737]), array([-1.22624811,  1.70129773, -1.9587607 ]), array([ 0.27386243, -0.74514295, -0.73689138]), array([ 0.20121016,  2.21702586, -2.42799529]), array([ 0.06318966, -1.0983242 , -0.48182579]), array([-1.1821308 ,  0.51649551, -1.86779041]), array([-0.43834476, -0.7594802 , -0.64190099]), array([-0.87349484,  0.8643742 , -1.46028086]), array([ 1.42354198, -0.52390246, -0.99046656]), array([ 1.02550032,  0.6775973 , -1.54397037]), array([-0.22951606,  2.13923318, -2.33395137]), array([-0.51278173, -0.20414892, -0.93590286]), array([-1.24444364,  1.34371456, -1.93101023]), array([-0.8753665 ,  0.44600881, -1.20331456]), array([-1.6896828 ,  0.81198453, -0.33248581])]\n",
            "All Y predictions for each time instance in Sample4\n",
            "[array([-1.23615493,  0.74949579, -1.08120166]), array([ 1.26421197, -0.2605395 , -1.03971496]), array([ 1.43023681,  0.07655867, -0.92122647]), array([ 1.62457215,  0.38839401, -1.5229562 ]), array([ 0.1275565 ,  0.1513187 , -1.19625075]), array([-0.11363909, -0.72857032, -0.5938029 ]), array([-0.57325385,  1.69551176,  0.59309112]), array([ 0.96863239, -0.35105578, -2.47446357]), array([-0.92065552, -0.37742019,  0.20995135]), array([ 0.90250867,  0.49861048, -2.54425152]), array([-0.37188677, -1.18915685, -0.38320737]), array([ 0.36775666,  1.06976561, -2.42818065]), array([-0.62852567, -0.27707923, -0.87869744]), array([ 1.46559213, -0.44678113, -1.01024362]), array([ 1.07813996,  0.28986092, -1.24432938]), array([ 0.93583579,  2.55163771, -2.62981766]), array([-0.79032539,  1.95557932, -2.07679903]), array([-1.86774332,  0.18800045,  0.83243404]), array([-0.81093256,  1.09479094,  0.68855362]), array([-0.63062043,  1.28083358,  0.68253867])]\n",
            "All Y predictions for each time instance in Sample5\n",
            "[array([ 0.82103704,  1.33211061, -2.43550493]), array([-1.21428321,  1.76033913, -1.98346855]), array([-1.21555575,  1.70816995, -1.88963083]), array([-1.23819501,  1.7660784 , -1.92010889]), array([-0.60810386, -1.04640062, -0.12172212]), array([-0.97242621, -0.21053784,  0.08937847]), array([ 0.45067725,  1.78732335, -2.17200506]), array([-1.15227775,  1.81039125, -1.98750724]), array([-0.39358749,  0.60462927,  0.21294059]), array([-0.50145744,  1.5036719 , -0.08341686]), array([-0.63562933,  1.67153472,  0.64310199]), array([ 0.52267584, -0.63642087, -2.30167817]), array([-2.76915351,  0.74423774,  1.42771907]), array([ 0.96484721,  0.63635369, -2.55090399]), array([-1.16943235,  1.44193337, -1.73570018]), array([-1.26610313,  1.8507283 , -1.97247208]), array([-0.73735523,  0.0837193 , -1.05930504]), array([-0.48212788,  1.21265613, -1.69244972]), array([-1.2393851 ,  1.49316602, -1.94840978]), array([-1.25297776,  1.22959963, -1.91738491])]\n",
            "All Y predictions for each time instance in Sample6\n",
            "[array([-2.09014669,  1.25767418, -1.0194432 ]), array([-0.82755483, -0.75225302,  0.06280068]), array([-1.26432043,  1.45455267,  0.87151796]), array([ 1.44992496, -0.44547515, -0.99136272]), array([-1.28388013,  1.38745987, -1.35863708]), array([ 1.85258042, -0.32915366, -1.1518961 ]), array([-0.8648497 ,  1.53264248, -2.06703385]), array([-1.21010308,  1.86984931, -1.99165798]), array([-2.02853436,  0.09883691,  0.87884069]), array([ 0.84440366, -0.12820401, -2.46188309]), array([-1.22240834,  1.70322328, -1.91383949]), array([-0.32706861,  1.47209459,  0.41142804]), array([ 0.97504137,  0.55092041, -2.48698023]), array([-1.22244402,  1.68289858, -1.97105986]), array([-0.4771574 ,  1.89237282, -2.0797028 ]), array([-0.54178692, -0.15567671, -0.95760614]), array([ 0.38367858, -0.83040254, -0.6845201 ]), array([-1.61711994,  0.07189462,  0.67197931]), array([ 0.6253087 ,  1.38477745, -2.11598324]), array([-0.70403117, -0.68345487, -0.10698114])]\n",
            "All Y predictions for each time instance in Sample7\n",
            "[array([ 1.03613847,  1.78188605, -2.38781138]), array([-0.05944152, -1.13025229, -0.44662281]), array([-0.67536464,  1.7287367 ,  0.65259621]), array([-0.99765211,  0.28800866,  0.7563634 ]), array([-1.89662336,  0.84760015,  1.13699996]), array([-0.62597623,  1.2073867 ,  0.68743721]), array([-1.12099491,  1.19985687,  0.84980134]), array([ 0.92195393, -0.27823909, -2.43745654]), array([-1.03539849,  1.78688933, -2.0248652 ]), array([-1.26717254,  1.83513321, -1.97168278]), array([-0.46276172, -1.15879224, -0.2597819 ]), array([ 0.38849585,  0.10012224, -0.86457913]), array([ 0.64463624,  1.94852755, -2.60695996]), array([ 0.45217973,  2.50898152, -2.52722878]), array([-1.19063325,  1.88394569, -1.99783077]), array([-2.79979901,  0.74351264,  1.44267624]), array([-0.59538884,  1.63094602,  0.61764345]), array([ 0.92770518,  0.50688861, -2.399905  ]), array([-1.23586094,  0.87251997, -1.88661315]), array([-0.69594125, -0.9227038 , -0.16338381])]\n",
            "All Y predictions for each time instance in Sample8\n",
            "[array([-1.01911056,  1.37450113, -2.00125344]), array([-2.59700034,  0.56563702,  1.29456278]), array([ 1.37609474,  0.29350867, -1.70935095]), array([ 0.53576979,  2.39716616, -2.6168309 ]), array([-1.25443755,  1.83358566, -1.95473626]), array([ 0.66055442, -0.8697004 , -0.71576088]), array([-0.73403956,  0.5992438 , -2.02218004]), array([-1.25902586,  1.77733014, -1.9494953 ]), array([ 0.87920495, -0.53922865, -0.92421058]), array([-0.22377811,  0.31720231, -2.15971927]), array([-2.74575965,  0.68947821,  1.40062062]), array([-0.24148858,  0.65945811,  0.12796595]), array([ 0.96237831, -0.26455692, -2.48590785]), array([ 0.08952027, -0.73738823, -0.72099309]), array([ 0.02254423,  1.29626091, -2.33885871]), array([-0.28485202,  1.7494218 , -2.02670218]), array([-1.24291572,  0.92351418, -1.88969086]), array([-0.86484488,  1.16305911, -1.63614149]), array([-0.10313204, -0.49143527, -0.83080256]), array([ 1.5940177 ,  0.13574235, -1.3732263 ])]\n",
            "All Y predictions for each time instance in Sample9\n",
            "[array([-1.24469574,  0.78169025, -1.80570078]), array([-1.08414749,  1.71927097, -1.9177216 ]), array([-1.68807702, -0.16343787,  0.64909781]), array([ 0.39751799,  0.73133225, -0.47400945]), array([ 0.85194263,  1.6986297 , -2.10287783]), array([-0.73911916, -0.74207812, -0.23703075]), array([-1.86196474,  1.06868991,  1.06506273]), array([ 0.95996206, -0.45550554, -2.46643419]), array([-1.07677801, -0.68834047,  0.19767305]), array([ 0.26752032,  1.34700362, -2.3722398 ]), array([ 0.1396357 , -1.06069856, -0.5022687 ]), array([-0.28535108,  1.13625569,  0.10947982]), array([-0.84971439, -1.2366934 , -1.7987026 ]), array([-1.19238755,  1.43998648, -1.7660101 ]), array([-1.03871537, -0.71186911,  0.15404506]), array([-2.5694379 ,  0.74049559,  1.30448756]), array([ 0.17188595,  1.01692676, -1.94818951]), array([-1.21451274,  0.99494064, -1.27472862]), array([-0.1895747 , -1.05459085, -0.50667325]), array([-1.21284545,  0.75483916, -1.88227882])]\n",
            "All Y predictions for each time instance in Sample10\n",
            "[array([-1.79170311e+00,  4.99087589e-01,  1.60198947e-03]), array([-1.47745325,  0.75018245,  0.78893999]), array([-0.82105082, -1.27639777, -1.8029643 ]), array([-0.57257021, -0.4813677 , -0.77174754]), array([ 0.39185892, -0.78579643, -0.66646562]), array([-1.01031018,  1.48183465, -2.01880899]), array([-0.33272038, -1.26421531, -0.3665434 ]), array([ 0.27710452, -0.05561317, -1.0682774 ]), array([-0.39216992,  1.62682817, -1.96136579]), array([-1.8335806 , -0.04200243,  0.75369354]), array([ 0.93057697,  0.87189308, -2.56661676]), array([ 0.22877869, -0.35293801, -0.94407378]), array([ 0.08230239,  2.26358389, -2.45213667]), array([-1.25597288,  1.83671942, -1.9556934 ]), array([-0.44747082, -0.98217739, -0.47990131]), array([-1.26319522,  1.52481281, -1.93731899]), array([-0.52575599, -0.73194825, -0.07842822]), array([-1.54608604,  1.36346573, -1.50568537]), array([-1.50627234,  1.89540496, -1.75766046]), array([-0.31037118, -1.28349491, -0.34925512])]\n"
          ],
          "name": "stdout"
        }
      ]
    },
    {
      "cell_type": "code",
      "metadata": {
        "id": "Qy3kgU9mMcKj",
        "colab_type": "code",
        "colab": {
          "base_uri": "https://localhost:8080/",
          "height": 34
        },
        "outputId": "c65cfc76-c9d3-4f51-8d35-cace797787c2"
      },
      "source": [
        "#Check if manual RNN calculation and SimpleRNN is the same \n",
        "np.allclose(Y_pred, Y_pred_manual, atol=1e-03)"
      ],
      "execution_count": 42,
      "outputs": [
        {
          "output_type": "execute_result",
          "data": {
            "text/plain": [
              "True"
            ]
          },
          "metadata": {
            "tags": []
          },
          "execution_count": 42
        }
      ]
    }
  ]
}