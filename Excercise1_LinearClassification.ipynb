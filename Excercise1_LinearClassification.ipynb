{
  "nbformat": 4,
  "nbformat_minor": 0,
  "metadata": {
    "colab": {
      "name": "Ex1-LinearClassification.ipynb",
      "provenance": [],
      "collapsed_sections": []
    },
    "kernelspec": {
      "name": "python3",
      "display_name": "Python 3"
    }
  },
  "cells": [
    {
      "cell_type": "code",
      "metadata": {
        "id": "PoDCIAcT14Hx",
        "colab_type": "code",
        "colab": {
          "base_uri": "https://localhost:8080/",
          "height": 34
        },
        "outputId": "aefedbf9-c6e1-4668-9b13-9f7416f8e98e"
      },
      "source": [
        "import tensorflow as tf\n",
        "print(tf.__version__)"
      ],
      "execution_count": null,
      "outputs": [
        {
          "output_type": "stream",
          "text": [
            "2.2.0\n"
          ],
          "name": "stdout"
        }
      ]
    },
    {
      "cell_type": "code",
      "metadata": {
        "id": "oppfuF5r2uUg",
        "colab_type": "code",
        "colab": {
          "base_uri": "https://localhost:8080/",
          "height": 34
        },
        "outputId": "c36957e3-2799-4cda-e842-29541091f725"
      },
      "source": [
        "#Load the data set\n",
        "from sklearn.datasets import load_breast_cancer\n",
        "cancer_data = load_breast_cancer()\n",
        "\n",
        "#check the data type\n",
        "print(type(cancer_data))"
      ],
      "execution_count": null,
      "outputs": [
        {
          "output_type": "stream",
          "text": [
            "<class 'sklearn.utils.Bunch'>\n"
          ],
          "name": "stdout"
        }
      ]
    },
    {
      "cell_type": "code",
      "metadata": {
        "id": "_ZrjspOa6Jgx",
        "colab_type": "code",
        "colab": {
          "base_uri": "https://localhost:8080/",
          "height": 156
        },
        "outputId": "6cd52d4d-4d4c-48f0-fa2d-8590fae717a5"
      },
      "source": [
        "#Convert it to pandas data frame for ease of use\n",
        "import pandas as pd\n",
        "cancer_df = pd.DataFrame(cancer_data.data, columns=cancer_data.feature_names)\n",
        "cancer_df['target'] = pd.Series(cancer_data.target)\n",
        "print(cancer_df.head())\n"
      ],
      "execution_count": null,
      "outputs": [
        {
          "output_type": "stream",
          "text": [
            "   mean radius  mean texture  ...  worst fractal dimension  target\n",
            "0        17.99         10.38  ...                  0.11890       0\n",
            "1        20.57         17.77  ...                  0.08902       0\n",
            "2        19.69         21.25  ...                  0.08758       0\n",
            "3        11.42         20.38  ...                  0.17300       0\n",
            "4        20.29         14.34  ...                  0.07678       0\n",
            "\n",
            "[5 rows x 31 columns]\n"
          ],
          "name": "stdout"
        }
      ]
    },
    {
      "cell_type": "code",
      "metadata": {
        "id": "aop-rcB0666O",
        "colab_type": "code",
        "colab": {
          "base_uri": "https://localhost:8080/",
          "height": 261
        },
        "outputId": "a7dc1d0e-827d-4514-92ae-e5c578949d77"
      },
      "source": [
        "#check out the head to understand the data\n",
        "cancer_df.head()"
      ],
      "execution_count": null,
      "outputs": [
        {
          "output_type": "execute_result",
          "data": {
            "text/html": [
              "<div>\n",
              "<style scoped>\n",
              "    .dataframe tbody tr th:only-of-type {\n",
              "        vertical-align: middle;\n",
              "    }\n",
              "\n",
              "    .dataframe tbody tr th {\n",
              "        vertical-align: top;\n",
              "    }\n",
              "\n",
              "    .dataframe thead th {\n",
              "        text-align: right;\n",
              "    }\n",
              "</style>\n",
              "<table border=\"1\" class=\"dataframe\">\n",
              "  <thead>\n",
              "    <tr style=\"text-align: right;\">\n",
              "      <th></th>\n",
              "      <th>mean radius</th>\n",
              "      <th>mean texture</th>\n",
              "      <th>mean perimeter</th>\n",
              "      <th>mean area</th>\n",
              "      <th>mean smoothness</th>\n",
              "      <th>mean compactness</th>\n",
              "      <th>mean concavity</th>\n",
              "      <th>mean concave points</th>\n",
              "      <th>mean symmetry</th>\n",
              "      <th>mean fractal dimension</th>\n",
              "      <th>radius error</th>\n",
              "      <th>texture error</th>\n",
              "      <th>perimeter error</th>\n",
              "      <th>area error</th>\n",
              "      <th>smoothness error</th>\n",
              "      <th>compactness error</th>\n",
              "      <th>concavity error</th>\n",
              "      <th>concave points error</th>\n",
              "      <th>symmetry error</th>\n",
              "      <th>fractal dimension error</th>\n",
              "      <th>worst radius</th>\n",
              "      <th>worst texture</th>\n",
              "      <th>worst perimeter</th>\n",
              "      <th>worst area</th>\n",
              "      <th>worst smoothness</th>\n",
              "      <th>worst compactness</th>\n",
              "      <th>worst concavity</th>\n",
              "      <th>worst concave points</th>\n",
              "      <th>worst symmetry</th>\n",
              "      <th>worst fractal dimension</th>\n",
              "      <th>target</th>\n",
              "    </tr>\n",
              "  </thead>\n",
              "  <tbody>\n",
              "    <tr>\n",
              "      <th>0</th>\n",
              "      <td>17.99</td>\n",
              "      <td>10.38</td>\n",
              "      <td>122.80</td>\n",
              "      <td>1001.0</td>\n",
              "      <td>0.11840</td>\n",
              "      <td>0.27760</td>\n",
              "      <td>0.3001</td>\n",
              "      <td>0.14710</td>\n",
              "      <td>0.2419</td>\n",
              "      <td>0.07871</td>\n",
              "      <td>1.0950</td>\n",
              "      <td>0.9053</td>\n",
              "      <td>8.589</td>\n",
              "      <td>153.40</td>\n",
              "      <td>0.006399</td>\n",
              "      <td>0.04904</td>\n",
              "      <td>0.05373</td>\n",
              "      <td>0.01587</td>\n",
              "      <td>0.03003</td>\n",
              "      <td>0.006193</td>\n",
              "      <td>25.38</td>\n",
              "      <td>17.33</td>\n",
              "      <td>184.60</td>\n",
              "      <td>2019.0</td>\n",
              "      <td>0.1622</td>\n",
              "      <td>0.6656</td>\n",
              "      <td>0.7119</td>\n",
              "      <td>0.2654</td>\n",
              "      <td>0.4601</td>\n",
              "      <td>0.11890</td>\n",
              "      <td>0</td>\n",
              "    </tr>\n",
              "    <tr>\n",
              "      <th>1</th>\n",
              "      <td>20.57</td>\n",
              "      <td>17.77</td>\n",
              "      <td>132.90</td>\n",
              "      <td>1326.0</td>\n",
              "      <td>0.08474</td>\n",
              "      <td>0.07864</td>\n",
              "      <td>0.0869</td>\n",
              "      <td>0.07017</td>\n",
              "      <td>0.1812</td>\n",
              "      <td>0.05667</td>\n",
              "      <td>0.5435</td>\n",
              "      <td>0.7339</td>\n",
              "      <td>3.398</td>\n",
              "      <td>74.08</td>\n",
              "      <td>0.005225</td>\n",
              "      <td>0.01308</td>\n",
              "      <td>0.01860</td>\n",
              "      <td>0.01340</td>\n",
              "      <td>0.01389</td>\n",
              "      <td>0.003532</td>\n",
              "      <td>24.99</td>\n",
              "      <td>23.41</td>\n",
              "      <td>158.80</td>\n",
              "      <td>1956.0</td>\n",
              "      <td>0.1238</td>\n",
              "      <td>0.1866</td>\n",
              "      <td>0.2416</td>\n",
              "      <td>0.1860</td>\n",
              "      <td>0.2750</td>\n",
              "      <td>0.08902</td>\n",
              "      <td>0</td>\n",
              "    </tr>\n",
              "    <tr>\n",
              "      <th>2</th>\n",
              "      <td>19.69</td>\n",
              "      <td>21.25</td>\n",
              "      <td>130.00</td>\n",
              "      <td>1203.0</td>\n",
              "      <td>0.10960</td>\n",
              "      <td>0.15990</td>\n",
              "      <td>0.1974</td>\n",
              "      <td>0.12790</td>\n",
              "      <td>0.2069</td>\n",
              "      <td>0.05999</td>\n",
              "      <td>0.7456</td>\n",
              "      <td>0.7869</td>\n",
              "      <td>4.585</td>\n",
              "      <td>94.03</td>\n",
              "      <td>0.006150</td>\n",
              "      <td>0.04006</td>\n",
              "      <td>0.03832</td>\n",
              "      <td>0.02058</td>\n",
              "      <td>0.02250</td>\n",
              "      <td>0.004571</td>\n",
              "      <td>23.57</td>\n",
              "      <td>25.53</td>\n",
              "      <td>152.50</td>\n",
              "      <td>1709.0</td>\n",
              "      <td>0.1444</td>\n",
              "      <td>0.4245</td>\n",
              "      <td>0.4504</td>\n",
              "      <td>0.2430</td>\n",
              "      <td>0.3613</td>\n",
              "      <td>0.08758</td>\n",
              "      <td>0</td>\n",
              "    </tr>\n",
              "    <tr>\n",
              "      <th>3</th>\n",
              "      <td>11.42</td>\n",
              "      <td>20.38</td>\n",
              "      <td>77.58</td>\n",
              "      <td>386.1</td>\n",
              "      <td>0.14250</td>\n",
              "      <td>0.28390</td>\n",
              "      <td>0.2414</td>\n",
              "      <td>0.10520</td>\n",
              "      <td>0.2597</td>\n",
              "      <td>0.09744</td>\n",
              "      <td>0.4956</td>\n",
              "      <td>1.1560</td>\n",
              "      <td>3.445</td>\n",
              "      <td>27.23</td>\n",
              "      <td>0.009110</td>\n",
              "      <td>0.07458</td>\n",
              "      <td>0.05661</td>\n",
              "      <td>0.01867</td>\n",
              "      <td>0.05963</td>\n",
              "      <td>0.009208</td>\n",
              "      <td>14.91</td>\n",
              "      <td>26.50</td>\n",
              "      <td>98.87</td>\n",
              "      <td>567.7</td>\n",
              "      <td>0.2098</td>\n",
              "      <td>0.8663</td>\n",
              "      <td>0.6869</td>\n",
              "      <td>0.2575</td>\n",
              "      <td>0.6638</td>\n",
              "      <td>0.17300</td>\n",
              "      <td>0</td>\n",
              "    </tr>\n",
              "    <tr>\n",
              "      <th>4</th>\n",
              "      <td>20.29</td>\n",
              "      <td>14.34</td>\n",
              "      <td>135.10</td>\n",
              "      <td>1297.0</td>\n",
              "      <td>0.10030</td>\n",
              "      <td>0.13280</td>\n",
              "      <td>0.1980</td>\n",
              "      <td>0.10430</td>\n",
              "      <td>0.1809</td>\n",
              "      <td>0.05883</td>\n",
              "      <td>0.7572</td>\n",
              "      <td>0.7813</td>\n",
              "      <td>5.438</td>\n",
              "      <td>94.44</td>\n",
              "      <td>0.011490</td>\n",
              "      <td>0.02461</td>\n",
              "      <td>0.05688</td>\n",
              "      <td>0.01885</td>\n",
              "      <td>0.01756</td>\n",
              "      <td>0.005115</td>\n",
              "      <td>22.54</td>\n",
              "      <td>16.67</td>\n",
              "      <td>152.20</td>\n",
              "      <td>1575.0</td>\n",
              "      <td>0.1374</td>\n",
              "      <td>0.2050</td>\n",
              "      <td>0.4000</td>\n",
              "      <td>0.1625</td>\n",
              "      <td>0.2364</td>\n",
              "      <td>0.07678</td>\n",
              "      <td>0</td>\n",
              "    </tr>\n",
              "  </tbody>\n",
              "</table>\n",
              "</div>"
            ],
            "text/plain": [
              "   mean radius  mean texture  ...  worst fractal dimension  target\n",
              "0        17.99         10.38  ...                  0.11890       0\n",
              "1        20.57         17.77  ...                  0.08902       0\n",
              "2        19.69         21.25  ...                  0.08758       0\n",
              "3        11.42         20.38  ...                  0.17300       0\n",
              "4        20.29         14.34  ...                  0.07678       0\n",
              "\n",
              "[5 rows x 31 columns]"
            ]
          },
          "metadata": {
            "tags": []
          },
          "execution_count": 7
        }
      ]
    },
    {
      "cell_type": "code",
      "metadata": {
        "id": "cnpNUpQw7kQe",
        "colab_type": "code",
        "colab": {
          "base_uri": "https://localhost:8080/",
          "height": 677
        },
        "outputId": "e8954a8a-aa89-4944-92f2-de2c8625621f"
      },
      "source": [
        "#understand the dimension and the data types\n",
        "cancer_df.info()"
      ],
      "execution_count": null,
      "outputs": [
        {
          "output_type": "stream",
          "text": [
            "<class 'pandas.core.frame.DataFrame'>\n",
            "RangeIndex: 569 entries, 0 to 568\n",
            "Data columns (total 31 columns):\n",
            " #   Column                   Non-Null Count  Dtype  \n",
            "---  ------                   --------------  -----  \n",
            " 0   mean radius              569 non-null    float64\n",
            " 1   mean texture             569 non-null    float64\n",
            " 2   mean perimeter           569 non-null    float64\n",
            " 3   mean area                569 non-null    float64\n",
            " 4   mean smoothness          569 non-null    float64\n",
            " 5   mean compactness         569 non-null    float64\n",
            " 6   mean concavity           569 non-null    float64\n",
            " 7   mean concave points      569 non-null    float64\n",
            " 8   mean symmetry            569 non-null    float64\n",
            " 9   mean fractal dimension   569 non-null    float64\n",
            " 10  radius error             569 non-null    float64\n",
            " 11  texture error            569 non-null    float64\n",
            " 12  perimeter error          569 non-null    float64\n",
            " 13  area error               569 non-null    float64\n",
            " 14  smoothness error         569 non-null    float64\n",
            " 15  compactness error        569 non-null    float64\n",
            " 16  concavity error          569 non-null    float64\n",
            " 17  concave points error     569 non-null    float64\n",
            " 18  symmetry error           569 non-null    float64\n",
            " 19  fractal dimension error  569 non-null    float64\n",
            " 20  worst radius             569 non-null    float64\n",
            " 21  worst texture            569 non-null    float64\n",
            " 22  worst perimeter          569 non-null    float64\n",
            " 23  worst area               569 non-null    float64\n",
            " 24  worst smoothness         569 non-null    float64\n",
            " 25  worst compactness        569 non-null    float64\n",
            " 26  worst concavity          569 non-null    float64\n",
            " 27  worst concave points     569 non-null    float64\n",
            " 28  worst symmetry           569 non-null    float64\n",
            " 29  worst fractal dimension  569 non-null    float64\n",
            " 30  target                   569 non-null    int64  \n",
            "dtypes: float64(30), int64(1)\n",
            "memory usage: 137.9 KB\n"
          ],
          "name": "stdout"
        }
      ]
    },
    {
      "cell_type": "code",
      "metadata": {
        "id": "QoHNKYux7oPt",
        "colab_type": "code",
        "colab": {}
      },
      "source": [
        "#get the shape elements\n",
        "N, D = cancer_df.shape"
      ],
      "execution_count": null,
      "outputs": []
    },
    {
      "cell_type": "code",
      "metadata": {
        "id": "dXhSKQTB9Q8V",
        "colab_type": "code",
        "colab": {
          "base_uri": "https://localhost:8080/",
          "height": 121
        },
        "outputId": "6133a934-11f2-4c66-ae7a-90359c80ebcb"
      },
      "source": [
        "#split the data set \n",
        "from sklearn.model_selection import train_test_split\n",
        "X_train, X_test, y_train, y_test = train_test_split(cancer_df.drop(['target'],axis=1), cancer_df['target'], test_size=0.3, random_state=23)\n",
        "\n",
        "#check the split\n",
        "y_train.head()"
      ],
      "execution_count": null,
      "outputs": [
        {
          "output_type": "execute_result",
          "data": {
            "text/plain": [
              "326    1\n",
              "13     0\n",
              "38     0\n",
              "135    0\n",
              "492    0\n",
              "Name: target, dtype: int64"
            ]
          },
          "metadata": {
            "tags": []
          },
          "execution_count": 14
        }
      ]
    },
    {
      "cell_type": "code",
      "metadata": {
        "id": "5c25fMoI_OQR",
        "colab_type": "code",
        "colab": {
          "base_uri": "https://localhost:8080/",
          "height": 261
        },
        "outputId": "598a1e13-a3d2-46cd-ac60-8f6211ccc10c"
      },
      "source": [
        "X_train.head()"
      ],
      "execution_count": null,
      "outputs": [
        {
          "output_type": "execute_result",
          "data": {
            "text/html": [
              "<div>\n",
              "<style scoped>\n",
              "    .dataframe tbody tr th:only-of-type {\n",
              "        vertical-align: middle;\n",
              "    }\n",
              "\n",
              "    .dataframe tbody tr th {\n",
              "        vertical-align: top;\n",
              "    }\n",
              "\n",
              "    .dataframe thead th {\n",
              "        text-align: right;\n",
              "    }\n",
              "</style>\n",
              "<table border=\"1\" class=\"dataframe\">\n",
              "  <thead>\n",
              "    <tr style=\"text-align: right;\">\n",
              "      <th></th>\n",
              "      <th>mean radius</th>\n",
              "      <th>mean texture</th>\n",
              "      <th>mean perimeter</th>\n",
              "      <th>mean area</th>\n",
              "      <th>mean smoothness</th>\n",
              "      <th>mean compactness</th>\n",
              "      <th>mean concavity</th>\n",
              "      <th>mean concave points</th>\n",
              "      <th>mean symmetry</th>\n",
              "      <th>mean fractal dimension</th>\n",
              "      <th>radius error</th>\n",
              "      <th>texture error</th>\n",
              "      <th>perimeter error</th>\n",
              "      <th>area error</th>\n",
              "      <th>smoothness error</th>\n",
              "      <th>compactness error</th>\n",
              "      <th>concavity error</th>\n",
              "      <th>concave points error</th>\n",
              "      <th>symmetry error</th>\n",
              "      <th>fractal dimension error</th>\n",
              "      <th>worst radius</th>\n",
              "      <th>worst texture</th>\n",
              "      <th>worst perimeter</th>\n",
              "      <th>worst area</th>\n",
              "      <th>worst smoothness</th>\n",
              "      <th>worst compactness</th>\n",
              "      <th>worst concavity</th>\n",
              "      <th>worst concave points</th>\n",
              "      <th>worst symmetry</th>\n",
              "      <th>worst fractal dimension</th>\n",
              "    </tr>\n",
              "  </thead>\n",
              "  <tbody>\n",
              "    <tr>\n",
              "      <th>326</th>\n",
              "      <td>14.11</td>\n",
              "      <td>12.88</td>\n",
              "      <td>90.03</td>\n",
              "      <td>616.5</td>\n",
              "      <td>0.09309</td>\n",
              "      <td>0.05306</td>\n",
              "      <td>0.01765</td>\n",
              "      <td>0.02733</td>\n",
              "      <td>0.1373</td>\n",
              "      <td>0.05700</td>\n",
              "      <td>0.2571</td>\n",
              "      <td>1.081</td>\n",
              "      <td>1.558</td>\n",
              "      <td>23.92</td>\n",
              "      <td>0.006692</td>\n",
              "      <td>0.01132</td>\n",
              "      <td>0.005717</td>\n",
              "      <td>0.006627</td>\n",
              "      <td>0.014160</td>\n",
              "      <td>0.002476</td>\n",
              "      <td>15.53</td>\n",
              "      <td>18.00</td>\n",
              "      <td>98.40</td>\n",
              "      <td>749.9</td>\n",
              "      <td>0.12810</td>\n",
              "      <td>0.11090</td>\n",
              "      <td>0.05307</td>\n",
              "      <td>0.05890</td>\n",
              "      <td>0.2100</td>\n",
              "      <td>0.07083</td>\n",
              "    </tr>\n",
              "    <tr>\n",
              "      <th>13</th>\n",
              "      <td>15.85</td>\n",
              "      <td>23.95</td>\n",
              "      <td>103.70</td>\n",
              "      <td>782.7</td>\n",
              "      <td>0.08401</td>\n",
              "      <td>0.10020</td>\n",
              "      <td>0.09938</td>\n",
              "      <td>0.05364</td>\n",
              "      <td>0.1847</td>\n",
              "      <td>0.05338</td>\n",
              "      <td>0.4033</td>\n",
              "      <td>1.078</td>\n",
              "      <td>2.903</td>\n",
              "      <td>36.58</td>\n",
              "      <td>0.009769</td>\n",
              "      <td>0.03126</td>\n",
              "      <td>0.050510</td>\n",
              "      <td>0.019920</td>\n",
              "      <td>0.029810</td>\n",
              "      <td>0.003002</td>\n",
              "      <td>16.84</td>\n",
              "      <td>27.66</td>\n",
              "      <td>112.00</td>\n",
              "      <td>876.5</td>\n",
              "      <td>0.11310</td>\n",
              "      <td>0.19240</td>\n",
              "      <td>0.23220</td>\n",
              "      <td>0.11190</td>\n",
              "      <td>0.2809</td>\n",
              "      <td>0.06287</td>\n",
              "    </tr>\n",
              "    <tr>\n",
              "      <th>38</th>\n",
              "      <td>14.99</td>\n",
              "      <td>25.20</td>\n",
              "      <td>95.54</td>\n",
              "      <td>698.8</td>\n",
              "      <td>0.09387</td>\n",
              "      <td>0.05131</td>\n",
              "      <td>0.02398</td>\n",
              "      <td>0.02899</td>\n",
              "      <td>0.1565</td>\n",
              "      <td>0.05504</td>\n",
              "      <td>1.2140</td>\n",
              "      <td>2.188</td>\n",
              "      <td>8.077</td>\n",
              "      <td>106.00</td>\n",
              "      <td>0.006883</td>\n",
              "      <td>0.01094</td>\n",
              "      <td>0.018180</td>\n",
              "      <td>0.019170</td>\n",
              "      <td>0.007882</td>\n",
              "      <td>0.001754</td>\n",
              "      <td>14.99</td>\n",
              "      <td>25.20</td>\n",
              "      <td>95.54</td>\n",
              "      <td>698.8</td>\n",
              "      <td>0.09387</td>\n",
              "      <td>0.05131</td>\n",
              "      <td>0.02398</td>\n",
              "      <td>0.02899</td>\n",
              "      <td>0.1565</td>\n",
              "      <td>0.05504</td>\n",
              "    </tr>\n",
              "    <tr>\n",
              "      <th>135</th>\n",
              "      <td>12.77</td>\n",
              "      <td>22.47</td>\n",
              "      <td>81.72</td>\n",
              "      <td>506.3</td>\n",
              "      <td>0.09055</td>\n",
              "      <td>0.05761</td>\n",
              "      <td>0.04711</td>\n",
              "      <td>0.02704</td>\n",
              "      <td>0.1585</td>\n",
              "      <td>0.06065</td>\n",
              "      <td>0.2367</td>\n",
              "      <td>1.380</td>\n",
              "      <td>1.457</td>\n",
              "      <td>19.87</td>\n",
              "      <td>0.007499</td>\n",
              "      <td>0.01202</td>\n",
              "      <td>0.023320</td>\n",
              "      <td>0.008920</td>\n",
              "      <td>0.016470</td>\n",
              "      <td>0.002629</td>\n",
              "      <td>14.49</td>\n",
              "      <td>33.37</td>\n",
              "      <td>92.04</td>\n",
              "      <td>653.6</td>\n",
              "      <td>0.14190</td>\n",
              "      <td>0.15230</td>\n",
              "      <td>0.21770</td>\n",
              "      <td>0.09331</td>\n",
              "      <td>0.2829</td>\n",
              "      <td>0.08067</td>\n",
              "    </tr>\n",
              "    <tr>\n",
              "      <th>492</th>\n",
              "      <td>18.01</td>\n",
              "      <td>20.56</td>\n",
              "      <td>118.40</td>\n",
              "      <td>1007.0</td>\n",
              "      <td>0.10010</td>\n",
              "      <td>0.12890</td>\n",
              "      <td>0.11700</td>\n",
              "      <td>0.07762</td>\n",
              "      <td>0.2116</td>\n",
              "      <td>0.06077</td>\n",
              "      <td>0.7548</td>\n",
              "      <td>1.288</td>\n",
              "      <td>5.353</td>\n",
              "      <td>89.74</td>\n",
              "      <td>0.007997</td>\n",
              "      <td>0.02700</td>\n",
              "      <td>0.037370</td>\n",
              "      <td>0.016480</td>\n",
              "      <td>0.028970</td>\n",
              "      <td>0.003996</td>\n",
              "      <td>21.53</td>\n",
              "      <td>26.06</td>\n",
              "      <td>143.40</td>\n",
              "      <td>1426.0</td>\n",
              "      <td>0.13090</td>\n",
              "      <td>0.23270</td>\n",
              "      <td>0.25440</td>\n",
              "      <td>0.14890</td>\n",
              "      <td>0.3251</td>\n",
              "      <td>0.07625</td>\n",
              "    </tr>\n",
              "  </tbody>\n",
              "</table>\n",
              "</div>"
            ],
            "text/plain": [
              "     mean radius  mean texture  ...  worst symmetry  worst fractal dimension\n",
              "326        14.11         12.88  ...          0.2100                  0.07083\n",
              "13         15.85         23.95  ...          0.2809                  0.06287\n",
              "38         14.99         25.20  ...          0.1565                  0.05504\n",
              "135        12.77         22.47  ...          0.2829                  0.08067\n",
              "492        18.01         20.56  ...          0.3251                  0.07625\n",
              "\n",
              "[5 rows x 30 columns]"
            ]
          },
          "metadata": {
            "tags": []
          },
          "execution_count": 15
        }
      ]
    },
    {
      "cell_type": "code",
      "metadata": {
        "id": "4HB1QMVQALeJ",
        "colab_type": "code",
        "colab": {
          "base_uri": "https://localhost:8080/",
          "height": 243
        },
        "outputId": "c83c231d-1880-40b5-c35d-d8264e263fb8"
      },
      "source": [
        "#normalize the data so that there no extreme values\n",
        "from sklearn.preprocessing import StandardScaler\n",
        "scaler = StandardScaler()\n",
        "scaler.fit_transform(X_train)\n",
        "scaler.transform(X_test)"
      ],
      "execution_count": null,
      "outputs": [
        {
          "output_type": "execute_result",
          "data": {
            "text/plain": [
              "array([[-0.54349129, -0.35505978, -0.57600826, ..., -0.5060577 ,\n",
              "         0.37102351, -0.16940445],\n",
              "       [ 0.10402502,  1.22422818,  0.16749935, ...,  0.09167617,\n",
              "         0.49156031,  0.94550795],\n",
              "       [ 2.67658983,  1.60056914,  2.84183771, ...,  2.4707784 ,\n",
              "         0.50947795,  0.16538812],\n",
              "       ...,\n",
              "       [ 0.21777789, -0.57907225,  0.12850123, ..., -0.5434258 ,\n",
              "        -0.58675541, -0.86290335],\n",
              "       [ 0.3927823 , -1.71033526,  0.45108349, ...,  1.0601327 ,\n",
              "         0.53879771,  0.87642377],\n",
              "       [ 0.25569551,  0.57907225,  0.24040887, ...,  0.25204759,\n",
              "         0.4524673 ,  0.42525092]])"
            ]
          },
          "metadata": {
            "tags": []
          },
          "execution_count": 17
        }
      ]
    },
    {
      "cell_type": "code",
      "metadata": {
        "id": "0sGyLxOtJSPZ",
        "colab_type": "code",
        "colab": {}
      },
      "source": [
        "# Create the model\n",
        "model = tf.keras.models.Sequential()\n",
        "model.add(tf.keras.layers.Input(shape=(D-1,))) #D-1 because our initial data set shape had target column as part of the dataset\n",
        "model.add(tf.keras.layers.Dense(1, activation='sigmoid'))"
      ],
      "execution_count": null,
      "outputs": []
    },
    {
      "cell_type": "code",
      "metadata": {
        "id": "LDSYDBQyMCjk",
        "colab_type": "code",
        "colab": {}
      },
      "source": [
        "#Compile the model\n",
        "model.compile(optimizer='adam', loss='binary_crossentropy', metrics=['accuracy'])"
      ],
      "execution_count": null,
      "outputs": []
    },
    {
      "cell_type": "code",
      "metadata": {
        "id": "aWa0jE6PQiI0",
        "colab_type": "code",
        "colab": {
          "base_uri": "https://localhost:8080/",
          "height": 1000
        },
        "outputId": "9288ebb6-3ce5-4be7-e19c-fed150a38603"
      },
      "source": [
        "#fit or train the model\n",
        "log_regression = model.fit(x=X_train, y=y_train, validation_data=(X_test, y_test), epochs=75)"
      ],
      "execution_count": null,
      "outputs": [
        {
          "output_type": "stream",
          "text": [
            "Epoch 1/75\n",
            "13/13 [==============================] - 0s 18ms/step - loss: 63.3061 - accuracy: 0.3744 - val_loss: 56.9088 - val_accuracy: 0.3684\n",
            "Epoch 2/75\n",
            "13/13 [==============================] - 0s 8ms/step - loss: 52.7148 - accuracy: 0.3744 - val_loss: 46.8200 - val_accuracy: 0.3684\n",
            "Epoch 3/75\n",
            "13/13 [==============================] - 0s 7ms/step - loss: 42.4391 - accuracy: 0.3744 - val_loss: 36.4969 - val_accuracy: 0.3684\n",
            "Epoch 4/75\n",
            "13/13 [==============================] - 0s 7ms/step - loss: 32.0320 - accuracy: 0.3744 - val_loss: 26.1708 - val_accuracy: 0.3684\n",
            "Epoch 5/75\n",
            "13/13 [==============================] - 0s 7ms/step - loss: 21.6574 - accuracy: 0.3744 - val_loss: 15.9713 - val_accuracy: 0.3860\n",
            "Epoch 6/75\n",
            "13/13 [==============================] - 0s 8ms/step - loss: 11.3369 - accuracy: 0.4020 - val_loss: 6.4501 - val_accuracy: 0.4854\n",
            "Epoch 7/75\n",
            "13/13 [==============================] - 0s 8ms/step - loss: 3.0247 - accuracy: 0.6633 - val_loss: 0.9368 - val_accuracy: 0.8129\n",
            "Epoch 8/75\n",
            "13/13 [==============================] - 0s 8ms/step - loss: 0.6087 - accuracy: 0.8894 - val_loss: 0.6981 - val_accuracy: 0.9240\n",
            "Epoch 9/75\n",
            "13/13 [==============================] - 0s 7ms/step - loss: 0.7812 - accuracy: 0.8995 - val_loss: 0.6992 - val_accuracy: 0.9240\n",
            "Epoch 10/75\n",
            "13/13 [==============================] - 0s 9ms/step - loss: 0.6719 - accuracy: 0.8970 - val_loss: 0.6745 - val_accuracy: 0.9064\n",
            "Epoch 11/75\n",
            "13/13 [==============================] - 0s 9ms/step - loss: 0.5897 - accuracy: 0.8819 - val_loss: 0.6925 - val_accuracy: 0.8889\n",
            "Epoch 12/75\n",
            "13/13 [==============================] - 0s 8ms/step - loss: 0.5782 - accuracy: 0.8894 - val_loss: 0.6961 - val_accuracy: 0.8830\n",
            "Epoch 13/75\n",
            "13/13 [==============================] - 0s 7ms/step - loss: 0.5720 - accuracy: 0.8869 - val_loss: 0.6831 - val_accuracy: 0.8889\n",
            "Epoch 14/75\n",
            "13/13 [==============================] - 0s 8ms/step - loss: 0.5732 - accuracy: 0.8819 - val_loss: 0.6823 - val_accuracy: 0.8889\n",
            "Epoch 15/75\n",
            "13/13 [==============================] - 0s 8ms/step - loss: 0.5788 - accuracy: 0.8869 - val_loss: 0.6907 - val_accuracy: 0.8830\n",
            "Epoch 16/75\n",
            "13/13 [==============================] - 0s 8ms/step - loss: 0.5710 - accuracy: 0.8869 - val_loss: 0.6818 - val_accuracy: 0.8889\n",
            "Epoch 17/75\n",
            "13/13 [==============================] - 0s 8ms/step - loss: 0.5700 - accuracy: 0.8844 - val_loss: 0.6806 - val_accuracy: 0.8889\n",
            "Epoch 18/75\n",
            "13/13 [==============================] - 0s 8ms/step - loss: 0.5805 - accuracy: 0.8869 - val_loss: 0.6771 - val_accuracy: 0.8889\n",
            "Epoch 19/75\n",
            "13/13 [==============================] - 0s 8ms/step - loss: 0.5669 - accuracy: 0.8844 - val_loss: 0.6870 - val_accuracy: 0.8830\n",
            "Epoch 20/75\n",
            "13/13 [==============================] - 0s 8ms/step - loss: 0.5681 - accuracy: 0.8844 - val_loss: 0.6867 - val_accuracy: 0.8830\n",
            "Epoch 21/75\n",
            "13/13 [==============================] - 0s 8ms/step - loss: 0.5683 - accuracy: 0.8894 - val_loss: 0.6820 - val_accuracy: 0.8830\n",
            "Epoch 22/75\n",
            "13/13 [==============================] - 0s 8ms/step - loss: 0.5658 - accuracy: 0.8844 - val_loss: 0.6724 - val_accuracy: 0.8947\n",
            "Epoch 23/75\n",
            "13/13 [==============================] - 0s 7ms/step - loss: 0.5640 - accuracy: 0.8869 - val_loss: 0.6806 - val_accuracy: 0.8830\n",
            "Epoch 24/75\n",
            "13/13 [==============================] - 0s 7ms/step - loss: 0.5610 - accuracy: 0.8819 - val_loss: 0.6792 - val_accuracy: 0.8830\n",
            "Epoch 25/75\n",
            "13/13 [==============================] - 0s 7ms/step - loss: 0.5644 - accuracy: 0.8844 - val_loss: 0.6785 - val_accuracy: 0.8830\n",
            "Epoch 26/75\n",
            "13/13 [==============================] - 0s 7ms/step - loss: 0.5592 - accuracy: 0.8844 - val_loss: 0.6793 - val_accuracy: 0.8830\n",
            "Epoch 27/75\n",
            "13/13 [==============================] - 0s 8ms/step - loss: 0.5575 - accuracy: 0.8844 - val_loss: 0.6780 - val_accuracy: 0.8830\n",
            "Epoch 28/75\n",
            "13/13 [==============================] - 0s 8ms/step - loss: 0.5599 - accuracy: 0.8844 - val_loss: 0.6719 - val_accuracy: 0.8830\n",
            "Epoch 29/75\n",
            "13/13 [==============================] - 0s 8ms/step - loss: 0.5561 - accuracy: 0.8794 - val_loss: 0.6789 - val_accuracy: 0.8830\n",
            "Epoch 30/75\n",
            "13/13 [==============================] - 0s 8ms/step - loss: 0.5635 - accuracy: 0.8819 - val_loss: 0.6788 - val_accuracy: 0.8830\n",
            "Epoch 31/75\n",
            "13/13 [==============================] - 0s 7ms/step - loss: 0.5545 - accuracy: 0.8869 - val_loss: 0.6681 - val_accuracy: 0.8830\n",
            "Epoch 32/75\n",
            "13/13 [==============================] - 0s 7ms/step - loss: 0.5556 - accuracy: 0.8869 - val_loss: 0.6748 - val_accuracy: 0.8830\n",
            "Epoch 33/75\n",
            "13/13 [==============================] - 0s 8ms/step - loss: 0.5499 - accuracy: 0.8819 - val_loss: 0.6706 - val_accuracy: 0.8830\n",
            "Epoch 34/75\n",
            "13/13 [==============================] - 0s 8ms/step - loss: 0.5505 - accuracy: 0.8844 - val_loss: 0.6661 - val_accuracy: 0.8830\n",
            "Epoch 35/75\n",
            "13/13 [==============================] - 0s 7ms/step - loss: 0.5509 - accuracy: 0.8844 - val_loss: 0.6738 - val_accuracy: 0.8830\n",
            "Epoch 36/75\n",
            "13/13 [==============================] - 0s 9ms/step - loss: 0.5460 - accuracy: 0.8920 - val_loss: 0.6695 - val_accuracy: 0.8830\n",
            "Epoch 37/75\n",
            "13/13 [==============================] - 0s 9ms/step - loss: 0.5620 - accuracy: 0.8869 - val_loss: 0.6557 - val_accuracy: 0.9064\n",
            "Epoch 38/75\n",
            "13/13 [==============================] - 0s 8ms/step - loss: 0.5426 - accuracy: 0.8869 - val_loss: 0.6723 - val_accuracy: 0.8830\n",
            "Epoch 39/75\n",
            "13/13 [==============================] - 0s 7ms/step - loss: 0.5452 - accuracy: 0.8844 - val_loss: 0.6634 - val_accuracy: 0.8830\n",
            "Epoch 40/75\n",
            "13/13 [==============================] - 0s 8ms/step - loss: 0.5440 - accuracy: 0.8869 - val_loss: 0.6650 - val_accuracy: 0.8830\n",
            "Epoch 41/75\n",
            "13/13 [==============================] - 0s 8ms/step - loss: 0.5377 - accuracy: 0.8894 - val_loss: 0.6556 - val_accuracy: 0.8889\n",
            "Epoch 42/75\n",
            "13/13 [==============================] - 0s 8ms/step - loss: 0.5353 - accuracy: 0.8869 - val_loss: 0.6630 - val_accuracy: 0.8830\n",
            "Epoch 43/75\n",
            "13/13 [==============================] - 0s 8ms/step - loss: 0.5365 - accuracy: 0.8844 - val_loss: 0.6652 - val_accuracy: 0.8830\n",
            "Epoch 44/75\n",
            "13/13 [==============================] - 0s 8ms/step - loss: 0.5379 - accuracy: 0.8844 - val_loss: 0.6576 - val_accuracy: 0.8830\n",
            "Epoch 45/75\n",
            "13/13 [==============================] - 0s 8ms/step - loss: 0.5493 - accuracy: 0.8945 - val_loss: 0.6608 - val_accuracy: 0.8830\n",
            "Epoch 46/75\n",
            "13/13 [==============================] - 0s 8ms/step - loss: 0.5298 - accuracy: 0.8894 - val_loss: 0.6502 - val_accuracy: 0.8889\n",
            "Epoch 47/75\n",
            "13/13 [==============================] - 0s 8ms/step - loss: 0.5329 - accuracy: 0.8869 - val_loss: 0.6527 - val_accuracy: 0.8889\n",
            "Epoch 48/75\n",
            "13/13 [==============================] - 0s 8ms/step - loss: 0.5271 - accuracy: 0.8844 - val_loss: 0.6573 - val_accuracy: 0.8830\n",
            "Epoch 49/75\n",
            "13/13 [==============================] - 0s 8ms/step - loss: 0.5285 - accuracy: 0.8869 - val_loss: 0.6550 - val_accuracy: 0.8830\n",
            "Epoch 50/75\n",
            "13/13 [==============================] - 0s 7ms/step - loss: 0.5250 - accuracy: 0.8970 - val_loss: 0.6433 - val_accuracy: 0.9006\n",
            "Epoch 51/75\n",
            "13/13 [==============================] - 0s 8ms/step - loss: 0.5227 - accuracy: 0.8945 - val_loss: 0.6532 - val_accuracy: 0.8830\n",
            "Epoch 52/75\n",
            "13/13 [==============================] - 0s 9ms/step - loss: 0.5324 - accuracy: 0.8894 - val_loss: 0.6538 - val_accuracy: 0.8830\n",
            "Epoch 53/75\n",
            "13/13 [==============================] - 0s 8ms/step - loss: 0.5264 - accuracy: 0.8945 - val_loss: 0.6386 - val_accuracy: 0.9006\n",
            "Epoch 54/75\n",
            "13/13 [==============================] - 0s 7ms/step - loss: 0.5168 - accuracy: 0.8970 - val_loss: 0.6516 - val_accuracy: 0.8830\n",
            "Epoch 55/75\n",
            "13/13 [==============================] - 0s 8ms/step - loss: 0.5254 - accuracy: 0.8920 - val_loss: 0.6532 - val_accuracy: 0.8830\n",
            "Epoch 56/75\n",
            "13/13 [==============================] - 0s 8ms/step - loss: 0.5453 - accuracy: 0.8945 - val_loss: 0.6329 - val_accuracy: 0.9006\n",
            "Epoch 57/75\n",
            "13/13 [==============================] - 0s 8ms/step - loss: 0.5170 - accuracy: 0.8970 - val_loss: 0.6496 - val_accuracy: 0.8830\n",
            "Epoch 58/75\n",
            "13/13 [==============================] - 0s 8ms/step - loss: 0.5257 - accuracy: 0.8920 - val_loss: 0.6481 - val_accuracy: 0.8830\n",
            "Epoch 59/75\n",
            "13/13 [==============================] - 0s 8ms/step - loss: 0.5117 - accuracy: 0.8995 - val_loss: 0.6517 - val_accuracy: 0.8830\n",
            "Epoch 60/75\n",
            "13/13 [==============================] - 0s 8ms/step - loss: 0.5088 - accuracy: 0.8920 - val_loss: 0.6329 - val_accuracy: 0.9006\n",
            "Epoch 61/75\n",
            "13/13 [==============================] - 0s 8ms/step - loss: 0.5112 - accuracy: 0.8970 - val_loss: 0.6375 - val_accuracy: 0.8889\n",
            "Epoch 62/75\n",
            "13/13 [==============================] - 0s 8ms/step - loss: 0.5088 - accuracy: 0.9020 - val_loss: 0.6410 - val_accuracy: 0.8830\n",
            "Epoch 63/75\n",
            "13/13 [==============================] - 0s 9ms/step - loss: 0.5167 - accuracy: 0.8995 - val_loss: 0.6305 - val_accuracy: 0.9006\n",
            "Epoch 64/75\n",
            "13/13 [==============================] - 0s 9ms/step - loss: 0.5108 - accuracy: 0.8970 - val_loss: 0.6358 - val_accuracy: 0.8889\n",
            "Epoch 65/75\n",
            "13/13 [==============================] - 0s 7ms/step - loss: 0.4992 - accuracy: 0.8869 - val_loss: 0.6363 - val_accuracy: 0.8830\n",
            "Epoch 66/75\n",
            "13/13 [==============================] - 0s 7ms/step - loss: 0.5036 - accuracy: 0.8920 - val_loss: 0.6295 - val_accuracy: 0.8889\n",
            "Epoch 67/75\n",
            "13/13 [==============================] - 0s 8ms/step - loss: 0.4994 - accuracy: 0.8894 - val_loss: 0.6361 - val_accuracy: 0.8830\n",
            "Epoch 68/75\n",
            "13/13 [==============================] - 0s 7ms/step - loss: 0.4944 - accuracy: 0.8970 - val_loss: 0.6204 - val_accuracy: 0.9006\n",
            "Epoch 69/75\n",
            "13/13 [==============================] - 0s 8ms/step - loss: 0.4999 - accuracy: 0.8920 - val_loss: 0.6296 - val_accuracy: 0.8889\n",
            "Epoch 70/75\n",
            "13/13 [==============================] - 0s 8ms/step - loss: 0.4990 - accuracy: 0.8945 - val_loss: 0.6196 - val_accuracy: 0.9006\n",
            "Epoch 71/75\n",
            "13/13 [==============================] - 0s 8ms/step - loss: 0.5021 - accuracy: 0.8995 - val_loss: 0.6202 - val_accuracy: 0.9006\n",
            "Epoch 72/75\n",
            "13/13 [==============================] - 0s 7ms/step - loss: 0.5002 - accuracy: 0.8995 - val_loss: 0.6383 - val_accuracy: 0.8830\n",
            "Epoch 73/75\n",
            "13/13 [==============================] - 0s 9ms/step - loss: 0.4885 - accuracy: 0.9020 - val_loss: 0.6179 - val_accuracy: 0.9006\n",
            "Epoch 74/75\n",
            "13/13 [==============================] - 0s 9ms/step - loss: 0.4891 - accuracy: 0.8995 - val_loss: 0.6139 - val_accuracy: 0.9006\n",
            "Epoch 75/75\n",
            "13/13 [==============================] - 0s 8ms/step - loss: 0.4944 - accuracy: 0.8995 - val_loss: 0.6172 - val_accuracy: 0.9006\n"
          ],
          "name": "stdout"
        }
      ]
    },
    {
      "cell_type": "code",
      "metadata": {
        "id": "V3FZ_pXGRJbi",
        "colab_type": "code",
        "colab": {
          "base_uri": "https://localhost:8080/",
          "height": 86
        },
        "outputId": "102b3c67-baf2-491e-f5b2-fbdd10b21afe"
      },
      "source": [
        "#evaluate the model\n",
        "print(\"Train score : \", model.evaluate(X_train, y_train))\n",
        "print(\"Test score : \", model.evaluate(X_test, y_test))"
      ],
      "execution_count": null,
      "outputs": [
        {
          "output_type": "stream",
          "text": [
            "13/13 [==============================] - 0s 1ms/step - loss: 0.4805 - accuracy: 0.9020\n",
            "Train score :  [0.4805312156677246, 0.9020100235939026]\n",
            "6/6 [==============================] - 0s 1ms/step - loss: 0.6172 - accuracy: 0.9006\n",
            "Test score :  [0.6172025799751282, 0.9005848169326782]\n"
          ],
          "name": "stdout"
        }
      ]
    },
    {
      "cell_type": "code",
      "metadata": {
        "id": "1MV9lK9XRpo4",
        "colab_type": "code",
        "colab": {
          "base_uri": "https://localhost:8080/",
          "height": 282
        },
        "outputId": "dd5aff09-7ffa-4e31-b252-544e16efe63b"
      },
      "source": [
        "#plot the loss data during training\n",
        "import matplotlib.pyplot as plt\n",
        "plt.plot(log_regression.history['loss'], label='loss')\n",
        "plt.plot(log_regression.history['val_loss'], label='val_loss')\n",
        "plt.legend()"
      ],
      "execution_count": null,
      "outputs": [
        {
          "output_type": "execute_result",
          "data": {
            "text/plain": [
              "<matplotlib.legend.Legend at 0x7f740a4e9e10>"
            ]
          },
          "metadata": {
            "tags": []
          },
          "execution_count": 31
        },
        {
          "output_type": "display_data",
          "data": {
            "image/png": "[encoded data removed]",
            "text/plain": [
              "<Figure size 432x288 with 1 Axes>"
            ]
          },
          "metadata": {
            "tags": [],
            "needs_background": "light"
          }
        }
      ]
    },
    {
      "cell_type": "code",
      "metadata": {
        "id": "EopmoP_JUMOf",
        "colab_type": "code",
        "colab": {
          "base_uri": "https://localhost:8080/",
          "height": 282
        },
        "outputId": "fc44b667-bfea-4be7-f34f-851cdc4bf76e"
      },
      "source": [
        "plt.plot(log_regression.history['accuracy'], label='acuracy')\n",
        "plt.plot(log_regression.history['val_accuracy'], label='val_accuracy')\n",
        "plt.legend()"
      ],
      "execution_count": null,
      "outputs": [
        {
          "output_type": "execute_result",
          "data": {
            "text/plain": [
              "<matplotlib.legend.Legend at 0x7f740a4e6ba8>"
            ]
          },
          "metadata": {
            "tags": []
          },
          "execution_count": 32
        },
        {
          "output_type": "display_data",
          "data": {
            "image/png": "[encoded data removed]",
            "text/plain": [
              "<Figure size 432x288 with 1 Axes>"
            ]
          },
          "metadata": {
            "tags": [],
            "needs_background": "light"
          }
        }
      ]
    },
    {
      "cell_type": "code",
      "metadata": {
        "id": "JrbNeRcTUeFB",
        "colab_type": "code",
        "colab": {
          "base_uri": "https://localhost:8080/",
          "height": 1000
        },
        "outputId": "b66da8f3-cd12-404f-fab9-bc2116c5655d"
      },
      "source": [
        "#predict any data using the model\n",
        "y_predict = model.predict(X_test)\n",
        "y_predict"
      ],
      "execution_count": null,
      "outputs": [
        {
          "output_type": "execute_result",
          "data": {
            "text/plain": [
              "array([[9.99542415e-01],\n",
              "       [9.97800767e-01],\n",
              "       [1.18018608e-08],\n",
              "       [9.54926670e-01],\n",
              "       [1.17889129e-10],\n",
              "       [3.52418761e-10],\n",
              "       [9.80058084e-35],\n",
              "       [9.99926209e-01],\n",
              "       [9.97431517e-01],\n",
              "       [3.22193778e-15],\n",
              "       [0.00000000e+00],\n",
              "       [1.00000000e+00],\n",
              "       [1.93683535e-01],\n",
              "       [9.99945879e-01],\n",
              "       [9.99104738e-01],\n",
              "       [9.97077346e-01],\n",
              "       [8.86989236e-01],\n",
              "       [9.99987364e-01],\n",
              "       [2.19779173e-22],\n",
              "       [9.78000522e-01],\n",
              "       [9.99958813e-01],\n",
              "       [9.01588678e-01],\n",
              "       [3.01778400e-15],\n",
              "       [9.99698639e-01],\n",
              "       [9.99997139e-01],\n",
              "       [5.04105687e-01],\n",
              "       [9.99960780e-01],\n",
              "       [9.99873400e-01],\n",
              "       [6.04279160e-01],\n",
              "       [2.63243914e-04],\n",
              "       [1.47193670e-04],\n",
              "       [7.58945617e-08],\n",
              "       [3.82365025e-38],\n",
              "       [9.99999523e-01],\n",
              "       [9.94980693e-01],\n",
              "       [9.99859333e-01],\n",
              "       [9.99952435e-01],\n",
              "       [9.75880623e-01],\n",
              "       [7.56543219e-01],\n",
              "       [9.99997675e-01],\n",
              "       [9.99941468e-01],\n",
              "       [9.99702334e-01],\n",
              "       [9.99992728e-01],\n",
              "       [3.02720070e-03],\n",
              "       [3.12298536e-04],\n",
              "       [9.99918461e-01],\n",
              "       [9.99999642e-01],\n",
              "       [9.99953151e-01],\n",
              "       [9.99959886e-01],\n",
              "       [9.99974847e-01],\n",
              "       [1.02269730e-08],\n",
              "       [9.97778058e-01],\n",
              "       [3.99364673e-11],\n",
              "       [9.99999404e-01],\n",
              "       [6.29826413e-09],\n",
              "       [1.66549482e-19],\n",
              "       [9.99678135e-01],\n",
              "       [2.98673144e-18],\n",
              "       [9.68641162e-01],\n",
              "       [9.99900579e-01],\n",
              "       [1.00000000e+00],\n",
              "       [1.60951117e-07],\n",
              "       [4.76111425e-12],\n",
              "       [9.99996424e-01],\n",
              "       [9.55443919e-01],\n",
              "       [9.50370312e-01],\n",
              "       [9.99315321e-01],\n",
              "       [1.42024308e-01],\n",
              "       [9.98703718e-01],\n",
              "       [4.65081330e-20],\n",
              "       [8.85525951e-05],\n",
              "       [0.00000000e+00],\n",
              "       [9.86844003e-02],\n",
              "       [9.99663889e-01],\n",
              "       [1.00000000e+00],\n",
              "       [9.99998927e-01],\n",
              "       [2.17134728e-13],\n",
              "       [9.77625728e-01],\n",
              "       [9.99912500e-01],\n",
              "       [9.99673486e-01],\n",
              "       [9.99959350e-01],\n",
              "       [3.31872119e-26],\n",
              "       [9.99791861e-01],\n",
              "       [9.97014761e-01],\n",
              "       [9.99823689e-01],\n",
              "       [1.06632775e-07],\n",
              "       [9.99975443e-01],\n",
              "       [1.01092541e-19],\n",
              "       [1.17510751e-06],\n",
              "       [0.00000000e+00],\n",
              "       [7.88543416e-16],\n",
              "       [1.97656416e-08],\n",
              "       [8.57845902e-01],\n",
              "       [9.88606393e-01],\n",
              "       [9.99925017e-01],\n",
              "       [0.00000000e+00],\n",
              "       [4.88042831e-04],\n",
              "       [9.99999404e-01],\n",
              "       [9.99998927e-01],\n",
              "       [9.96686935e-01],\n",
              "       [8.91584895e-18],\n",
              "       [9.99975979e-01],\n",
              "       [1.88447535e-02],\n",
              "       [5.18343031e-01],\n",
              "       [9.99593496e-01],\n",
              "       [2.05551586e-13],\n",
              "       [9.99908805e-01],\n",
              "       [9.99995232e-01],\n",
              "       [9.95600939e-01],\n",
              "       [1.16635941e-18],\n",
              "       [9.99951899e-01],\n",
              "       [9.94193316e-01],\n",
              "       [9.99993384e-01],\n",
              "       [4.82078638e-15],\n",
              "       [9.69105244e-01],\n",
              "       [0.00000000e+00],\n",
              "       [9.99271750e-01],\n",
              "       [1.65183544e-02],\n",
              "       [9.99997258e-01],\n",
              "       [9.99770522e-01],\n",
              "       [9.99988675e-01],\n",
              "       [9.46611166e-04],\n",
              "       [9.99967694e-01],\n",
              "       [1.00000000e+00],\n",
              "       [9.57923174e-01],\n",
              "       [9.99990702e-01],\n",
              "       [9.90744233e-01],\n",
              "       [9.98947203e-01],\n",
              "       [9.98241067e-01],\n",
              "       [9.99999702e-01],\n",
              "       [3.58519493e-24],\n",
              "       [2.49742299e-01],\n",
              "       [8.71974647e-01],\n",
              "       [9.99880373e-01],\n",
              "       [9.99930859e-01],\n",
              "       [7.19650924e-01],\n",
              "       [9.66785312e-01],\n",
              "       [1.21090193e-09],\n",
              "       [0.00000000e+00],\n",
              "       [9.99927104e-01],\n",
              "       [1.27439581e-18],\n",
              "       [9.94585931e-01],\n",
              "       [0.00000000e+00],\n",
              "       [9.99967933e-01],\n",
              "       [6.75526322e-27],\n",
              "       [9.16688979e-01],\n",
              "       [2.13513715e-07],\n",
              "       [7.09354884e-13],\n",
              "       [1.30504370e-04],\n",
              "       [8.14184284e-28],\n",
              "       [9.99786735e-01],\n",
              "       [9.99718189e-01],\n",
              "       [9.99925077e-01],\n",
              "       [3.71308914e-07],\n",
              "       [6.27876151e-09],\n",
              "       [3.53189867e-18],\n",
              "       [9.54352736e-01],\n",
              "       [9.95842814e-01],\n",
              "       [9.99981284e-01],\n",
              "       [9.77105618e-01],\n",
              "       [1.00000000e+00],\n",
              "       [9.99954402e-01],\n",
              "       [5.45606214e-16],\n",
              "       [0.00000000e+00],\n",
              "       [9.99845922e-01],\n",
              "       [1.00000000e+00],\n",
              "       [1.26959750e-17],\n",
              "       [3.75265665e-15],\n",
              "       [9.96910512e-01],\n",
              "       [6.11341164e-13],\n",
              "       [8.76435518e-01]], dtype=float32)"
            ]
          },
          "metadata": {
            "tags": []
          },
          "execution_count": 33
        }
      ]
    },
    {
      "cell_type": "code",
      "metadata": {
        "id": "LXoQuGxlVheX",
        "colab_type": "code",
        "colab": {
          "base_uri": "https://localhost:8080/",
          "height": 34
        },
        "outputId": "a31a36c2-fd54-4ee2-98a2-aebeeb1d8989"
      },
      "source": [
        "#calculate accuracy manually\n",
        "import numpy as np\n",
        "y_predict.shape"
      ],
      "execution_count": null,
      "outputs": [
        {
          "output_type": "execute_result",
          "data": {
            "text/plain": [
              "(171, 1)"
            ]
          },
          "metadata": {
            "tags": []
          },
          "execution_count": 34
        }
      ]
    },
    {
      "cell_type": "code",
      "metadata": {
        "id": "16Oei9A-V5ke",
        "colab_type": "code",
        "colab": {
          "base_uri": "https://localhost:8080/",
          "height": 34
        },
        "outputId": "3d416cad-d066-408d-a77e-2b431ad2137e"
      },
      "source": [
        "y_predict_vector = np.round(y_predict).flatten()\n",
        "y_predict_vector.shape"
      ],
      "execution_count": null,
      "outputs": [
        {
          "output_type": "execute_result",
          "data": {
            "text/plain": [
              "(171,)"
            ]
          },
          "metadata": {
            "tags": []
          },
          "execution_count": 36
        }
      ]
    },
    {
      "cell_type": "code",
      "metadata": {
        "id": "eKdQWaJ9WEJf",
        "colab_type": "code",
        "colab": {
          "base_uri": "https://localhost:8080/",
          "height": 34
        },
        "outputId": "a320387c-246b-4628-dfc5-80edaa08719b"
      },
      "source": [
        "print(\"Accuracy is : \", np.mean(y_predict_vector == y_test))"
      ],
      "execution_count": null,
      "outputs": [
        {
          "output_type": "stream",
          "text": [
            "Accuracy is :  0.9005847953216374\n"
          ],
          "name": "stdout"
        }
      ]
    },
    {
      "cell_type": "code",
      "metadata": {
        "id": "rcEOHCCdWnTu",
        "colab_type": "code",
        "colab": {
          "base_uri": "https://localhost:8080/",
          "height": 173
        },
        "outputId": "11d09336-d5d1-43b4-bb88-00e49951591f"
      },
      "source": [
        "#show classification report from sklearn\n",
        "from sklearn import metrics\n",
        "\n",
        "print(metrics.classification_report(y_test, y_predict_vector, target_names=cancer_data.target_names))"
      ],
      "execution_count": null,
      "outputs": [
        {
          "output_type": "stream",
          "text": [
            "              precision    recall  f1-score   support\n",
            "\n",
            "   malignant       0.86      0.87      0.87        63\n",
            "      benign       0.93      0.92      0.92       108\n",
            "\n",
            "    accuracy                           0.90       171\n",
            "   macro avg       0.89      0.89      0.89       171\n",
            "weighted avg       0.90      0.90      0.90       171\n",
            "\n"
          ],
          "name": "stdout"
        }
      ]
    },
    {
      "cell_type": "code",
      "metadata": {
        "id": "7mJVgiLDXWW5",
        "colab_type": "code",
        "colab": {
          "base_uri": "https://localhost:8080/",
          "height": 106
        },
        "outputId": "1cf191d8-4e08-4db1-c6c5-41f86c3291fa"
      },
      "source": [
        "#save the data\n",
        "model.save('log_regression_linear.mod')"
      ],
      "execution_count": null,
      "outputs": [
        {
          "output_type": "stream",
          "text": [
            "WARNING:tensorflow:From /usr/local/lib/python3.6/dist-packages/tensorflow/python/ops/resource_variable_ops.py:1817: calling BaseResourceVariable.__init__ (from tensorflow.python.ops.resource_variable_ops) with constraint is deprecated and will be removed in a future version.\n",
            "Instructions for updating:\n",
            "If using Keras pass *_constraint arguments to layers.\n",
            "INFO:tensorflow:Assets written to: log_regression_linear.mod/assets\n"
          ],
          "name": "stdout"
        }
      ]
    },
    {
      "cell_type": "code",
      "metadata": {
        "id": "pmlb2it8YmFl",
        "colab_type": "code",
        "colab": {
          "base_uri": "https://localhost:8080/",
          "height": 34
        },
        "outputId": "d35d89e0-6b47-4faa-c0a5-45b51eaeba6d"
      },
      "source": [
        "!ls\n"
      ],
      "execution_count": null,
      "outputs": [
        {
          "output_type": "stream",
          "text": [
            "log_regression_linear.mod  sample_data\n"
          ],
          "name": "stdout"
        }
      ]
    },
    {
      "cell_type": "code",
      "metadata": {
        "id": "bsfgzaL0YpIv",
        "colab_type": "code",
        "colab": {
          "base_uri": "https://localhost:8080/",
          "height": 69
        },
        "outputId": "39bd3810-6454-401d-8d62-83cabf28a8b5"
      },
      "source": [
        "#load data and check if it works\n",
        "new_model = tf.keras.models.load_model('log_regression_linear.mod')\n",
        "print(new_model.layers)\n",
        "new_model.evaluate(X_test, y_test)"
      ],
      "execution_count": null,
      "outputs": [
        {
          "output_type": "stream",
          "text": [
            "[<tensorflow.python.keras.layers.core.Dense object at 0x7f740a615da0>]\n",
            "6/6 [==============================] - 0s 2ms/step - loss: 0.6172 - accuracy: 0.9006\n"
          ],
          "name": "stdout"
        },
        {
          "output_type": "execute_result",
          "data": {
            "text/plain": [
              "[0.6172025799751282, 0.9005848169326782]"
            ]
          },
          "metadata": {
            "tags": []
          },
          "execution_count": 45
        }
      ]
    },
    {
      "cell_type": "code",
      "metadata": {
        "id": "qzQ_jLeHZHso",
        "colab_type": "code",
        "colab": {
          "base_uri": "https://localhost:8080/",
          "height": 17
        },
        "outputId": "be12f9ac-1705-4706-aa44-b07b5229faca"
      },
      "source": [
        "from google.colab import files\n",
        "files.download('log_regression_linear.mod')"
      ],
      "execution_count": null,
      "outputs": [
        {
          "output_type": "display_data",
          "data": {
            "application/javascript": [
              "\n",
              "    async function download(id, filename, size) {\n",
              "      if (!google.colab.kernel.accessAllowed) {\n",
              "        return;\n",
              "      }\n",
              "      const div = document.createElement('div');\n",
              "      const label = document.createElement('label');\n",
              "      label.textContent = `Downloading \"${filename}\": `;\n",
              "      div.appendChild(label);\n",
              "      const progress = document.createElement('progress');\n",
              "      progress.max = size;\n",
              "      div.appendChild(progress);\n",
              "      document.body.appendChild(div);\n",
              "\n",
              "      const buffers = [];\n",
              "      let downloaded = 0;\n",
              "\n",
              "      const channel = await google.colab.kernel.comms.open(id);\n",
              "      // Send a message to notify the kernel that we're ready.\n",
              "      channel.send({})\n",
              "\n",
              "      for await (const message of channel.messages) {\n",
              "        // Send a message to notify the kernel that we're ready.\n",
              "        channel.send({})\n",
              "        if (message.buffers) {\n",
              "          for (const buffer of message.buffers) {\n",
              "            buffers.push(buffer);\n",
              "            downloaded += buffer.byteLength;\n",
              "            progress.value = downloaded;\n",
              "          }\n",
              "        }\n",
              "      }\n",
              "      const blob = new Blob(buffers, {type: 'application/binary'});\n",
              "      const a = document.createElement('a');\n",
              "      a.href = window.URL.createObjectURL(blob);\n",
              "      a.download = filename;\n",
              "      div.appendChild(a);\n",
              "      a.click();\n",
              "      div.remove();\n",
              "    }\n",
              "  "
            ],
            "text/plain": [
              "<IPython.core.display.Javascript object>"
            ]
          },
          "metadata": {
            "tags": []
          }
        },
        {
          "output_type": "display_data",
          "data": {
            "application/javascript": [
              "download(\"download_1fdcd71e-3dad-439a-a378-06b81310a08a\", \"log_regression_linear.mod\", 4096)"
            ],
            "text/plain": [
              "<IPython.core.display.Javascript object>"
            ]
          },
          "metadata": {
            "tags": []
          }
        }
      ]
    }
  ]
}